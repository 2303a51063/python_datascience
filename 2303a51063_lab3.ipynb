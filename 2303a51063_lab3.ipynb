{
  "nbformat": 4,
  "nbformat_minor": 0,
  "metadata": {
    "colab": {
      "provenance": [],
      "authorship_tag": "ABX9TyPwiGz/J8GhfqG90bss/WB2",
      "include_colab_link": true
    },
    "kernelspec": {
      "name": "python3",
      "display_name": "Python 3"
    },
    "language_info": {
      "name": "python"
    }
  },
  "cells": [
    {
      "cell_type": "markdown",
      "metadata": {
        "id": "view-in-github",
        "colab_type": "text"
      },
      "source": [
        "<a href=\"https://colab.research.google.com/github/2303a51063/python_datascience/blob/main/2303a51063_lab3.ipynb\" target=\"_parent\"><img src=\"https://colab.research.google.com/assets/colab-badge.svg\" alt=\"Open In Colab\"/></a>"
      ]
    },
    {
      "cell_type": "code",
      "execution_count": null,
      "metadata": {
        "colab": {
          "base_uri": "https://localhost:8080/"
        },
        "id": "J9IKj0iwuSqA",
        "outputId": "f31d4928-be71-4ddc-a477-04d7ab437945"
      },
      "outputs": [
        {
          "output_type": "stream",
          "name": "stdout",
          "text": [
            "Matrix A:\n",
            " [[8 7 8]\n",
            " [4 2 9]\n",
            " [9 3 1]]\n",
            "\n",
            "Matrix B:\n",
            " [[4 8 6]\n",
            " [9 5 7]\n",
            " [6 7 2]]\n"
          ]
        }
      ],
      "source": [
        " import numpy as np\n",
        " A = np.random.randint(1, 10, (3, 3))\n",
        " B = np.random.randint(1, 10, (3, 3))\n",
        " print(\"Matrix A:\\n\", A)\n",
        " print(\"\\nMatrix B:\\n\", B)"
      ]
    },
    {
      "cell_type": "code",
      "source": [
        " add_result = np.add(A, B)\n",
        " sub_result = np.subtract(A, B)\n",
        " print(\"Matrix A:\\n\", A)"
      ],
      "metadata": {
        "colab": {
          "base_uri": "https://localhost:8080/"
        },
        "id": "5nfR_E0vuuiM",
        "outputId": "3afcfe6e-8bb3-4d70-e0e8-a5b7cf2cabd0"
      },
      "execution_count": null,
      "outputs": [
        {
          "output_type": "stream",
          "name": "stdout",
          "text": [
            "Matrix A:\n",
            " [[8 7 8]\n",
            " [4 2 9]\n",
            " [9 3 1]]\n"
          ]
        }
      ]
    },
    {
      "cell_type": "code",
      "source": [
        " print(\"Matrix B:\\n\", B)"
      ],
      "metadata": {
        "colab": {
          "base_uri": "https://localhost:8080/"
        },
        "id": "HmcsAdfcu9iL",
        "outputId": "cbb55340-178e-4ede-be15-00f715c83bea"
      },
      "execution_count": null,
      "outputs": [
        {
          "output_type": "stream",
          "name": "stdout",
          "text": [
            "Matrix B:\n",
            " [[4 8 6]\n",
            " [9 5 7]\n",
            " [6 7 2]]\n"
          ]
        }
      ]
    },
    {
      "cell_type": "code",
      "source": [
        " print(\"\\nAddition Result:\\n\", add_result)"
      ],
      "metadata": {
        "colab": {
          "base_uri": "https://localhost:8080/"
        },
        "id": "oakakNJHvCV8",
        "outputId": "3152b05a-630f-4dd9-852b-e2cbb064af15"
      },
      "execution_count": null,
      "outputs": [
        {
          "output_type": "stream",
          "name": "stdout",
          "text": [
            "\n",
            "Addition Result:\n",
            " [[12 15 14]\n",
            " [13  7 16]\n",
            " [15 10  3]]\n"
          ]
        }
      ]
    },
    {
      "cell_type": "code",
      "source": [
        " print(\"\\nSubtraction Result:\\n\", sub_result)"
      ],
      "metadata": {
        "colab": {
          "base_uri": "https://localhost:8080/"
        },
        "id": "sXXFw2XGvHUk",
        "outputId": "a17a5d8c-acc2-4fb1-ad0e-48189eb00283"
      },
      "execution_count": null,
      "outputs": [
        {
          "output_type": "stream",
          "name": "stdout",
          "text": [
            "\n",
            "Subtraction Result:\n",
            " [[ 4 -1  2]\n",
            " [-5 -3  2]\n",
            " [ 3 -4 -1]]\n"
          ]
        }
      ]
    },
    {
      "cell_type": "code",
      "source": [
        "print(f\"A[0][0] + B[0][0] = {A[0][0]} + {B[0][0]} = {add_result[0][0]}\")\n",
        "print(f\"A[0][0] - B[0][0] = {A[0][0]} - {B[0][0]} = {sub_result[0][0]}\")"
      ],
      "metadata": {
        "colab": {
          "base_uri": "https://localhost:8080/"
        },
        "id": "o7jxx6pCvNn0",
        "outputId": "8933fa21-12bf-4361-a94c-8e92c047044b"
      },
      "execution_count": null,
      "outputs": [
        {
          "output_type": "stream",
          "name": "stdout",
          "text": [
            "A[0][0] + B[0][0] = 8 + 4 = 12\n",
            "A[0][0] - B[0][0] = 8 - 4 = 4\n"
          ]
        }
      ]
    },
    {
      "cell_type": "code",
      "source": [
        "# 2)2D Matrix Multiplication\n",
        "import numpy as np\n",
        "image = np.array([\n",
        "    [[123, 50, 200],\n",
        "     [34, 210, 89],\n",
        "     [255, 180, 75]],\n",
        "    [[45, 60, 90],\n",
        "     [220, 130, 40],\n",
        "     [10, 240, 180]],\n",
        "    [[100, 200, 150],\n",
        "     [60, 90, 120],\n",
        "     [80, 160, 220]]\n",
        "], dtype=np.uint8)\n",
        "print(\"Original Image (3x3x3):\\n\", image)"
      ],
      "metadata": {
        "colab": {
          "base_uri": "https://localhost:8080/"
        },
        "id": "3kqA6soivTA8",
        "outputId": "13c8a837-7ef9-45cb-da51-29ea829678fe"
      },
      "execution_count": null,
      "outputs": [
        {
          "output_type": "stream",
          "name": "stdout",
          "text": [
            "Original Image (3x3x3):\n",
            " [[[123  50 200]\n",
            "  [ 34 210  89]\n",
            "  [255 180  75]]\n",
            "\n",
            " [[ 45  60  90]\n",
            "  [220 130  40]\n",
            "  [ 10 240 180]]\n",
            "\n",
            " [[100 200 150]\n",
            "  [ 60  90 120]\n",
            "  [ 80 160 220]]]\n"
          ]
        }
      ]
    },
    {
      "cell_type": "code",
      "source": [
        " red_layer = image[:, :, 0]\n",
        " green_layer = image[:, :, 1]\n",
        " blue_layer = image[:, :, 2]\n",
        " print(\"\\nRed Channel:\\n\", red_layer)\n",
        " print(\"\\nGreen Channel:\\n\", green_layer)\n",
        " print(\"\\nBlue Channel:\\n\", blue_layer)"
      ],
      "metadata": {
        "colab": {
          "base_uri": "https://localhost:8080/"
        },
        "id": "8Fi49F6twMrv",
        "outputId": "de123cf6-7d2a-459e-dc60-95194ad10649"
      },
      "execution_count": null,
      "outputs": [
        {
          "output_type": "stream",
          "name": "stdout",
          "text": [
            "\n",
            "Red Channel:\n",
            " [[123  34 255]\n",
            " [ 45 220  10]\n",
            " [100  60  80]]\n",
            "\n",
            "Green Channel:\n",
            " [[ 50 210 180]\n",
            " [ 60 130 240]\n",
            " [200  90 160]]\n",
            "\n",
            "Blue Channel:\n",
            " [[200  89  75]\n",
            " [ 90  40 180]\n",
            " [150 120 220]]\n"
          ]
        }
      ]
    },
    {
      "cell_type": "code",
      "source": [
        " avg_red = np.mean(red_layer)\n",
        " avg_green = np.mean(green_layer)\n",
        " avg_blue = np.mean(blue_layer)\n",
        " print(\"\\nAverage Intensities:\")\n",
        " print(f\"Red: {avg_red:.2f}, Green: {avg_green:.2f}, Blue: {avg_blue:.2f}\")"
      ],
      "metadata": {
        "colab": {
          "base_uri": "https://localhost:8080/"
        },
        "id": "wRA9mNJowRqw",
        "outputId": "48e212e8-4bfb-4208-b558-d5e48bfa10e8"
      },
      "execution_count": null,
      "outputs": [
        {
          "output_type": "stream",
          "name": "stdout",
          "text": [
            "\n",
            "Average Intensities:\n",
            "Red: 103.00, Green: 146.67, Blue: 129.33\n"
          ]
        }
      ]
    },
    {
      "cell_type": "code",
      "source": [
        " brightened = np.clip(image + 50, 0, 255)\n",
        " print(\"\\nBrightened Image:\\n\", brightened)"
      ],
      "metadata": {
        "colab": {
          "base_uri": "https://localhost:8080/"
        },
        "id": "n2vdgVMgwWeh",
        "outputId": "e5469f49-1e04-4474-b428-34e6d8b5ff99"
      },
      "execution_count": null,
      "outputs": [
        {
          "output_type": "stream",
          "name": "stdout",
          "text": [
            "\n",
            "Brightened Image:\n",
            " [[[173 100 250]\n",
            "  [ 84   4 139]\n",
            "  [ 49 230 125]]\n",
            "\n",
            " [[ 95 110 140]\n",
            "  [ 14 180  90]\n",
            "  [ 60  34 230]]\n",
            "\n",
            " [[150 250 200]\n",
            "  [110 140 170]\n",
            "  [130 210  14]]]\n"
          ]
        }
      ]
    },
    {
      "cell_type": "code",
      "source": [
        " A = np.array([[1, 2, 3],\n",
        " [4, 5, 6]])\n",
        " # 1D Array\n",
        " b = np.array([10, 20, 30])\n",
        " # Broadcasting (2D + 1D)\n",
        " C = A + b\n",
        " print(\"2D + 1D Broadcasting:\\n\", C)"
      ],
      "metadata": {
        "colab": {
          "base_uri": "https://localhost:8080/"
        },
        "id": "EYqX_xZ1wcLj",
        "outputId": "a22092b6-86a2-4228-fc13-6b63ba36ef68"
      },
      "execution_count": null,
      "outputs": [
        {
          "output_type": "stream",
          "name": "stdout",
          "text": [
            "2D + 1D Broadcasting:\n",
            " [[11 22 33]\n",
            " [14 25 36]]\n"
          ]
        }
      ]
    },
    {
      "cell_type": "code",
      "source": [
        "D = np.ones((2,3,4)) * 5\n",
        "scalar = 10\n",
        "E = D + scalar\n",
        "print(\"\\n3D + scalar Broadcasting:\\n\", E)"
      ],
      "metadata": {
        "colab": {
          "base_uri": "https://localhost:8080/"
        },
        "id": "MrWhgfvOwkPb",
        "outputId": "3ef11d59-ce35-4d9e-c2e4-04bcc018d977"
      },
      "execution_count": null,
      "outputs": [
        {
          "output_type": "stream",
          "name": "stdout",
          "text": [
            "\n",
            "3D + scalar Broadcasting:\n",
            " [[[15. 15. 15. 15.]\n",
            "  [15. 15. 15. 15.]\n",
            "  [15. 15. 15. 15.]]\n",
            "\n",
            " [[15. 15. 15. 15.]\n",
            "  [15. 15. 15. 15.]\n",
            "  [15. 15. 15. 15.]]]\n"
          ]
        }
      ]
    },
    {
      "cell_type": "code",
      "source": [
        " b2 = np.array([1,2,3])\n",
        " expanded = b2[:, np.newaxis]\n",
        " print(\"\\nShape Transformation Example:\")\n",
        " print(\"Original b2.shape:\", b2.shape)\n",
        " print(\"Expanded b2.shape:\", expanded.shape)"
      ],
      "metadata": {
        "colab": {
          "base_uri": "https://localhost:8080/"
        },
        "id": "wj40Agv6wtNE",
        "outputId": "78116819-e88f-4e39-d886-5d6569f96815"
      },
      "execution_count": null,
      "outputs": [
        {
          "output_type": "stream",
          "name": "stdout",
          "text": [
            "\n",
            "Shape Transformation Example:\n",
            "Original b2.shape: (3,)\n",
            "Expanded b2.shape: (3, 1)\n"
          ]
        }
      ]
    },
    {
      "cell_type": "code",
      "source": [
        "X = np.ones((2,3))\n",
        "Y = np.ones((3,))\n",
        "Z = X + Y\n",
        "print(\"\\n2D + 1D Broadcasting (Fixed Example):\")\n",
        "print(\"X shape:\", X.shape)\n",
        "print(\"Y shape:\", Y.shape)\n",
        "print(\"Result Z:\\n\", Z)"
      ],
      "metadata": {
        "colab": {
          "base_uri": "https://localhost:8080/"
        },
        "id": "yY4y1pD2wzxJ",
        "outputId": "62f686b4-6436-4835-da13-d4026998dd21"
      },
      "execution_count": null,
      "outputs": [
        {
          "output_type": "stream",
          "name": "stdout",
          "text": [
            "\n",
            "2D + 1D Broadcasting (Fixed Example):\n",
            "X shape: (2, 3)\n",
            "Y shape: (3,)\n",
            "Result Z:\n",
            " [[2. 2. 2.]\n",
            " [2. 2. 2.]]\n"
          ]
        }
      ]
    }
  ]
}