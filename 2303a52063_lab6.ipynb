{
  "nbformat": 4,
  "nbformat_minor": 0,
  "metadata": {
    "colab": {
      "provenance": [],
      "authorship_tag": "ABX9TyMFuB7UnZRqOvGzFQilNm7z",
      "include_colab_link": true
    },
    "kernelspec": {
      "name": "python3",
      "display_name": "Python 3"
    },
    "language_info": {
      "name": "python"
    }
  },
  "cells": [
    {
      "cell_type": "markdown",
      "metadata": {
        "id": "view-in-github",
        "colab_type": "text"
      },
      "source": [
        "<a href=\"https://colab.research.google.com/github/2303a51063/python_datascience/blob/main/2303a52063_lab6.ipynb\" target=\"_parent\"><img src=\"https://colab.research.google.com/assets/colab-badge.svg\" alt=\"Open In Colab\"/></a>"
      ]
    },
    {
      "cell_type": "code",
      "execution_count": 6,
      "metadata": {
        "colab": {
          "base_uri": "https://localhost:8080/",
          "height": 0
        },
        "id": "8Bjc6tfYtITO",
        "outputId": "b0afd72b-fc18-494a-cb8e-436ef3e14607"
      },
      "outputs": [
        {
          "output_type": "stream",
          "name": "stdout",
          "text": [
            "Before Cleaning - Missing Values:\n",
            " PassengerId    0\n",
            "Survived       0\n",
            "Pclass         0\n",
            "Name           0\n",
            "Sex            0\n",
            "Age            2\n",
            "SibSp          0\n",
            "Parch          0\n",
            "Ticket         0\n",
            "Fare           0\n",
            "Cabin          7\n",
            "Embarked       2\n",
            "dtype: int64\n",
            "\n",
            "After Cleaning - Missing Values:\n",
            " PassengerId    0\n",
            "Survived       0\n",
            "Pclass         0\n",
            "Name           0\n",
            "Sex            0\n",
            "Age            0\n",
            "SibSp          0\n",
            "Parch          0\n",
            "Ticket         0\n",
            "Fare           0\n",
            "Embarked       0\n",
            "dtype: int64\n"
          ]
        }
      ],
      "source": [
        "import pandas as pd\n",
        "\n",
        "titanic = pd.read_csv(\"/content/titanic_mock.csv\")\n",
        "print(\"Before Cleaning - Missing Values:\\n\", titanic.isna().sum())\n",
        "\n",
        "# Handle Age - fill missing values with mean\n",
        "if 'Age' in titanic.columns:\n",
        "    mean_age = titanic['Age'].mean(skipna=True)\n",
        "    titanic['Age'] = titanic['Age'].fillna(mean_age)\n",
        "\n",
        "# Handle Embarked - fill missing values with mode\n",
        "if 'Embarked' in titanic.columns:\n",
        "    mode_embarked = titanic['Embarked'].mode(dropna=True)[0]\n",
        "    titanic['Embarked'] = titanic['Embarked'].fillna(mode_embarked)\n",
        "\n",
        "# Drop Cabin if exists (irrelevant + too many missing values)\n",
        "titanic = titanic.drop(columns=[col for col in ['Cabin'] if col in titanic.columns])\n",
        "\n",
        "# After cleaning\n",
        "print(\"\\nAfter Cleaning - Missing Values:\\n\", titanic.isna().sum())\n",
        "\n",
        "# Save cleaned dataset\n",
        "titanic.to_csv(\"titanic_cleaned.csv\", index=False)\n"
      ]
    },
    {
      "cell_type": "code",
      "source": [
        "import pandas as pd\n",
        "\n",
        "# Create student dataset with inconsistent gender entries\n",
        "data = {\n",
        "    \"ID\": [1, 2, 3, 4, 5],\n",
        "    \"Name\": [\"Ravi\", \"Neha\", \"Sita\", \"John\", \"Ali\"],\n",
        "    \"Gender\": [\"M\", \"Male\", \"male\", \"F\", \"Female\"]\n",
        "}\n",
        "\n",
        "students = pd.DataFrame(data)\n",
        "\n",
        "print(\"Before Cleaning:\\n\", students)\n",
        "\n",
        "# Standardize Gender values\n",
        "students['Gender'] = students['Gender'].str.strip().str.lower()  # lowercase\n",
        "students['Gender'] = students['Gender'].replace({\"m\": \"male\", \"f\": \"female\"})\n",
        "students['Gender'] = students['Gender'].str.capitalize()  # Final formatting\n",
        "\n",
        "print(\"\\nAfter Cleaning:\\n\", students)\n"
      ],
      "metadata": {
        "colab": {
          "base_uri": "https://localhost:8080/",
          "height": 0
        },
        "id": "vO_RBNNbuNx5",
        "outputId": "91d072f4-aeee-4a93-9eae-08bc1c3d2bbf"
      },
      "execution_count": 3,
      "outputs": [
        {
          "output_type": "stream",
          "name": "stdout",
          "text": [
            "Before Cleaning:\n",
            "    ID  Name  Gender\n",
            "0   1  Ravi       M\n",
            "1   2  Neha    Male\n",
            "2   3  Sita    male\n",
            "3   4  John       F\n",
            "4   5   Ali  Female\n",
            "\n",
            "After Cleaning:\n",
            "    ID  Name  Gender\n",
            "0   1  Ravi    Male\n",
            "1   2  Neha    Male\n",
            "2   3  Sita    Male\n",
            "3   4  John  Female\n",
            "4   5   Ali  Female\n"
          ]
        }
      ]
    }
  ]
}