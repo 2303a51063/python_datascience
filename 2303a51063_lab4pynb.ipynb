{
  "nbformat": 4,
  "nbformat_minor": 0,
  "metadata": {
    "colab": {
      "provenance": [],
      "authorship_tag": "ABX9TyMslIB4h6fW/pN2n2P+hu5w",
      "include_colab_link": true
    },
    "kernelspec": {
      "name": "python3",
      "display_name": "Python 3"
    },
    "language_info": {
      "name": "python"
    }
  },
  "cells": [
    {
      "cell_type": "markdown",
      "metadata": {
        "id": "view-in-github",
        "colab_type": "text"
      },
      "source": [
        "<a href=\"https://colab.research.google.com/github/2303a51063/python_datascience/blob/main/2303a51063_lab4pynb.ipynb\" target=\"_parent\"><img src=\"https://colab.research.google.com/assets/colab-badge.svg\" alt=\"Open In Colab\"/></a>"
      ]
    },
    {
      "cell_type": "code",
      "execution_count": 2,
      "metadata": {
        "colab": {
          "base_uri": "https://localhost:8080/",
          "height": 0
        },
        "id": "3mKNHS8N8P_H",
        "outputId": "2b524dd8-fbd8-4341-ff8d-c5d6dbaa530e"
      },
      "outputs": [
        {
          "output_type": "stream",
          "name": "stdout",
          "text": [
            "Cleaned Data:\n",
            "   Student_ID     Name  Math  Science  English\n",
            "0           1    Alice  85.0    88.00    90.00\n",
            "1           2      Bob  85.0    74.00    80.00\n",
            "2           3  Charlie  78.0    82.25    70.00\n",
            "3           4    David  92.0    91.00    81.25\n",
            "4           5      Eva  85.0    76.00    85.00\n",
            "\n",
            "High Achievers (scored > 75 in all subjects):\n",
            "   Student_ID   Name  Math  Science  English\n",
            "0           1  Alice  85.0     88.0    90.00\n",
            "3           4  David  92.0     91.0    81.25\n",
            "4           5    Eva  85.0     76.0    85.00\n"
          ]
        }
      ],
      "source": [
        "import pandas as pd\n",
        "df = pd.read_csv(\"/content/student_scores.csv\")\n",
        "df.fillna(df.mean(numeric_only=True), inplace=True)\n",
        "high_achievers = df[(df['Math'] > 75) & (df['Science'] > 75) & (df['English'] > 75)]\n",
        "print(\"Cleaned Data:\")\n",
        "print(df)\n",
        "print(\"\\nHigh Achievers (scored > 75 in all subjects):\")\n",
        "print(high_achievers)"
      ]
    },
    {
      "cell_type": "code",
      "source": [
        "import pandas as pd\n",
        "df = pd.read_csv(\"/content/patients.csv\")\n",
        "df['Age'].fillna(df['Age'].median(), inplace=True)\n",
        "elderly_females = df[(df['Gender'].str.lower() == 'female') &\n",
        "                     (df['Age'] > 50) &\n",
        "                     (df['Diagnosis'].str.lower() == 'diabetes')]\n",
        "\n",
        "print(\"Cleaned Patient Records:\")\n",
        "print(df)\n",
        "print(\"\\nElderly Female Patients Diagnosed with Diabetes:\")\n",
        "print(elderly_females)\n"
      ],
      "metadata": {
        "colab": {
          "base_uri": "https://localhost:8080/",
          "height": 0
        },
        "id": "djCju3HI9ZiQ",
        "outputId": "e4e39c6f-7799-4788-9b60-b32b7d2c6ee2"
      },
      "execution_count": 3,
      "outputs": [
        {
          "output_type": "stream",
          "name": "stdout",
          "text": [
            "Cleaned Patient Records:\n",
            "   Patient_ID   Name   Age  Gender Diagnosis Admission_Date\n",
            "0         101   Rita  60.0  Female  Diabetes     2025-08-01\n",
            "1         102    Sam  55.0    Male       Flu     2025-08-05\n",
            "2         103  Anita  55.0  Female  Diabetes     2025-08-07\n",
            "3         104   John  45.0    Male    Cancer     2025-08-09\n",
            "4         105  Meera  55.0  Female  Diabetes     2025-08-15\n",
            "\n",
            "Elderly Female Patients Diagnosed with Diabetes:\n",
            "   Patient_ID   Name   Age  Gender Diagnosis Admission_Date\n",
            "0         101   Rita  60.0  Female  Diabetes     2025-08-01\n",
            "2         103  Anita  55.0  Female  Diabetes     2025-08-07\n",
            "4         105  Meera  55.0  Female  Diabetes     2025-08-15\n"
          ]
        },
        {
          "output_type": "stream",
          "name": "stderr",
          "text": [
            "/tmp/ipython-input-1330394145.py:3: FutureWarning: A value is trying to be set on a copy of a DataFrame or Series through chained assignment using an inplace method.\n",
            "The behavior will change in pandas 3.0. This inplace method will never work because the intermediate object on which we are setting values always behaves as a copy.\n",
            "\n",
            "For example, when doing 'df[col].method(value, inplace=True)', try using 'df.method({col: value}, inplace=True)' or df[col] = df[col].method(value) instead, to perform the operation inplace on the original object.\n",
            "\n",
            "\n",
            "  df['Age'].fillna(df['Age'].median(), inplace=True)\n"
          ]
        }
      ]
    }
  ]
}