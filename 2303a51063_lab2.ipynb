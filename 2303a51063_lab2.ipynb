{
  "nbformat": 4,
  "nbformat_minor": 0,
  "metadata": {
    "colab": {
      "provenance": [],
      "authorship_tag": "ABX9TyOlzqjlJorcVrjs7F5uskZ4",
      "include_colab_link": true
    },
    "kernelspec": {
      "name": "python3",
      "display_name": "Python 3"
    },
    "language_info": {
      "name": "python"
    }
  },
  "cells": [
    {
      "cell_type": "markdown",
      "metadata": {
        "id": "view-in-github",
        "colab_type": "text"
      },
      "source": [
        "<a href=\"https://colab.research.google.com/github/2303a51063/python_datascience/blob/main/2303a51063_lab2.ipynb\" target=\"_parent\"><img src=\"https://colab.research.google.com/assets/colab-badge.svg\" alt=\"Open In Colab\"/></a>"
      ]
    },
    {
      "cell_type": "code",
      "execution_count": null,
      "metadata": {
        "colab": {
          "base_uri": "https://localhost:8080/"
        },
        "id": "qZ6NJX19xO7Z",
        "outputId": "2bcdb8c4-4467-49df-de95-0b3a40626e6d"
      },
      "outputs": [
        {
          "output_type": "stream",
          "name": "stdout",
          "text": [
            "Marks:\n",
            " [[78 85 90]\n",
            " [92 88 76]\n",
            " [56 67 70]\n",
            " [89 94 91]\n",
            " [72 60 65]]\n"
          ]
        }
      ],
      "source": [
        " import numpy as np\n",
        " marks = np.array([\n",
        " [78, 85, 90],\n",
        " [92, 88, 76],\n",
        " [56, 67, 70],\n",
        " [89, 94, 91],\n",
        " [72, 60, 65]\n",
        " ])\n",
        " print(\"Marks:\\n\", marks)"
      ]
    },
    {
      "cell_type": "code",
      "source": [
        " avg = np.mean(marks, axis=1)\n",
        " print(\"Average:\", avg)\n",
        " print(\"Minimum:\", np.min(marks))\n",
        " print(\"Maximum:\", np.max(marks))"
      ],
      "metadata": {
        "colab": {
          "base_uri": "https://localhost:8080/"
        },
        "id": "QIhwQtsexi5o",
        "outputId": "66c46a70-8884-4866-fc15-da41cc63bfc0"
      },
      "execution_count": null,
      "outputs": [
        {
          "output_type": "stream",
          "name": "stdout",
          "text": [
            "Average: [84.33333333 85.33333333 64.33333333 91.33333333 65.66666667]\n",
            "Minimum: 56\n",
            "Maximum: 94\n"
          ]
        }
      ]
    },
    {
      "cell_type": "code",
      "source": [
        " print(\"2nd student:\", marks[1])"
      ],
      "metadata": {
        "colab": {
          "base_uri": "https://localhost:8080/"
        },
        "id": "GT73-8UAxxgR",
        "outputId": "d3ce8e53-bdbb-45bd-d8f2-083deb52dfe5"
      },
      "execution_count": null,
      "outputs": [
        {
          "output_type": "stream",
          "name": "stdout",
          "text": [
            "2nd student: [92 88 76]\n"
          ]
        }
      ]
    },
    {
      "cell_type": "code",
      "source": [
        " print(\"Above 80:\\n\", marks[marks > 80])"
      ],
      "metadata": {
        "colab": {
          "base_uri": "https://localhost:8080/"
        },
        "id": "GZJ3W1Mmx1qn",
        "outputId": "485f5932-b511-40a0-9fbf-97a8fd0f4652"
      },
      "execution_count": null,
      "outputs": [
        {
          "output_type": "stream",
          "name": "stdout",
          "text": [
            "Above 80:\n",
            " [85 90 92 88 89 94 91]\n"
          ]
        }
      ]
    },
    {
      "cell_type": "code",
      "source": [
        "reshaped = marks.reshape(3, -1)\n",
        "print(\"Reshaped:\\n\", reshaped)"
      ],
      "metadata": {
        "colab": {
          "base_uri": "https://localhost:8080/"
        },
        "id": "xsSi13Rix6-W",
        "outputId": "44ce2ae1-7da3-4b84-fee6-8b85676ac5f7"
      },
      "execution_count": null,
      "outputs": [
        {
          "output_type": "stream",
          "name": "stdout",
          "text": [
            "Reshaped:\n",
            " [[78 85 90 92 88]\n",
            " [76 56 67 70 89]\n",
            " [94 91 72 60 65]]\n"
          ]
        }
      ]
    },
    {
      "cell_type": "code",
      "source": [
        "# 2) Employee Salary Analysis with pandas DataFrame\n",
        "import pandas as pd\n",
        "data = {\n",
        "\"Name\": [\"esha\", \"Arnav\", \"Ishika\", \"David\", \"Aira\"],\n",
        "\"ID\": [101, 102, 103, 104, 105],\n",
        "\"Department\": [\"HR\", \"IT\", \"Finance\", \"IT\", \"Marketing\"],\n",
        "\"Salary\": [45000, 60000, 75000, 50000, 82000]\n",
        "}\n",
        "df = pd.DataFrame(data)\n",
        "print(\"Employees:\\n\", df)"
      ],
      "metadata": {
        "colab": {
          "base_uri": "https://localhost:8080/"
        },
        "id": "YRx-D338yErO",
        "outputId": "e57da723-4904-400e-8e2b-2671d2461969"
      },
      "execution_count": null,
      "outputs": [
        {
          "output_type": "stream",
          "name": "stdout",
          "text": [
            "Employees:\n",
            "      Name   ID Department  Salary\n",
            "0    esha  101         HR   45000\n",
            "1   Arnav  102         IT   60000\n",
            "2  Ishika  103    Finance   75000\n",
            "3   David  104         IT   50000\n",
            "4    Aira  105  Marketing   82000\n"
          ]
        }
      ]
    },
    {
      "cell_type": "code",
      "source": [
        " print(\"Salary > 50000:\\n\", df[df[\"Salary\"] > 50000])"
      ],
      "metadata": {
        "colab": {
          "base_uri": "https://localhost:8080/"
        },
        "id": "hOQpbAU7yakB",
        "outputId": "2bdee988-960b-4ab8-db2c-5f748d11518f"
      },
      "execution_count": null,
      "outputs": [
        {
          "output_type": "stream",
          "name": "stdout",
          "text": [
            "Salary > 50000:\n",
            "      Name   ID Department  Salary\n",
            "1   Arnav  102         IT   60000\n",
            "2  Ishika  103    Finance   75000\n",
            "4    Aira  105  Marketing   82000\n"
          ]
        }
      ]
    },
    {
      "cell_type": "code",
      "source": [
        " print(\"Sorted:\\n\", df.sort_values(by=\"Salary\", ascending=False))"
      ],
      "metadata": {
        "colab": {
          "base_uri": "https://localhost:8080/"
        },
        "id": "jnUeAH1JydB_",
        "outputId": "687dce9b-3233-4824-b9a4-865895ea96af"
      },
      "execution_count": null,
      "outputs": [
        {
          "output_type": "stream",
          "name": "stdout",
          "text": [
            "Sorted:\n",
            "      Name   ID Department  Salary\n",
            "4    Aira  105  Marketing   82000\n",
            "2  Ishika  103    Finance   75000\n",
            "1   Arnav  102         IT   60000\n",
            "3   David  104         IT   50000\n",
            "0    esha  101         HR   45000\n"
          ]
        }
      ]
    },
    {
      "cell_type": "code",
      "source": [
        " df[\"Bonus\"] = df[\"Salary\"] * 0.10\n",
        " print(\"With Bonus:\\n\", df)"
      ],
      "metadata": {
        "colab": {
          "base_uri": "https://localhost:8080/"
        },
        "id": "8LEIC3Cyygd3",
        "outputId": "247c9f47-ce0f-453c-dbcc-f5eab973f7ee"
      },
      "execution_count": null,
      "outputs": [
        {
          "output_type": "stream",
          "name": "stdout",
          "text": [
            "With Bonus:\n",
            "      Name   ID Department  Salary   Bonus\n",
            "0    esha  101         HR   45000  4500.0\n",
            "1   Arnav  102         IT   60000  6000.0\n",
            "2  Ishika  103    Finance   75000  7500.0\n",
            "3   David  104         IT   50000  5000.0\n",
            "4    Aira  105  Marketing   82000  8200.0\n"
          ]
        }
      ]
    },
    {
      "cell_type": "code",
      "source": [
        " df[\"Total_Expense\"] = df[\"Salary\"] + df[\"Bonus\"]\n",
        " print(\"Total Expense:\", df[\"Total_Expense\"].sum())"
      ],
      "metadata": {
        "colab": {
          "base_uri": "https://localhost:8080/"
        },
        "id": "8LYrzGljymfY",
        "outputId": "d0abca39-baad-4911-fce9-b11297fc2607"
      },
      "execution_count": null,
      "outputs": [
        {
          "output_type": "stream",
          "name": "stdout",
          "text": [
            "Total Expense: 343200.0\n"
          ]
        }
      ]
    },
    {
      "cell_type": "code",
      "source": [
        "df.to_csv(\"employee_salary_analysis.csv\", index=False)\n",
        "print(\"Saved to CSV\")"
      ],
      "metadata": {
        "colab": {
          "base_uri": "https://localhost:8080/"
        },
        "id": "IMKATlcoyq3r",
        "outputId": "9f77bed4-6303-45c3-de86-dc53705c08c2"
      },
      "execution_count": null,
      "outputs": [
        {
          "output_type": "stream",
          "name": "stdout",
          "text": [
            "Saved to CSV\n"
          ]
        }
      ]
    }
  ]
}